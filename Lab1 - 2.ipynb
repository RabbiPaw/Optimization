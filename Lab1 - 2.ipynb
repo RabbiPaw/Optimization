{
 "cells": [
  {
   "cell_type": "code",
   "execution_count": 1,
   "id": "e7c05875-9412-4d87-a757-06042692ec66",
   "metadata": {},
   "outputs": [],
   "source": [
    "import scipy as sc\n",
    "import numpy as np"
   ]
  },
  {
   "cell_type": "markdown",
   "id": "1178e037-99b5-4ce0-8688-66c56c360f37",
   "metadata": {},
   "source": [
    "# LAB 1"
   ]
  },
  {
   "cell_type": "code",
   "execution_count": 2,
   "id": "88510cf8-f588-425c-a1ae-481406e76205",
   "metadata": {},
   "outputs": [],
   "source": [
    "def func_1(x):\n",
    "    return (x+5)**4"
   ]
  },
  {
   "cell_type": "markdown",
   "id": "c761e921-ec7b-47c8-a050-5f87912b2a10",
   "metadata": {},
   "source": [
    "## Метод Дихотомии"
   ]
  },
  {
   "cell_type": "code",
   "execution_count": 3,
   "id": "40425637-c378-458c-b605-7d321b187480",
   "metadata": {},
   "outputs": [],
   "source": [
    "a = -6\n",
    "b = 2\n",
    "eps = 0.00000001"
   ]
  },
  {
   "cell_type": "code",
   "execution_count": 4,
   "id": "2217dc6d-2e0f-47a2-ab05-ffaf293d0efc",
   "metadata": {},
   "outputs": [],
   "source": [
    "def Dichtom(a,b,eps):\n",
    "    x = (a+b)/2\n",
    "    x1 = x - eps/2\n",
    "    x2 = x + eps/2\n",
    "    f1 = func_1(x1)\n",
    "    f2 = func_1(x2)\n",
    "    if f1>f2:\n",
    "        a = x1\n",
    "    else:\n",
    "        b = x2\n",
    "    return a,b"
   ]
  },
  {
   "cell_type": "code",
   "execution_count": 5,
   "id": "2ae18e62-85fc-47e2-8879-b6f2b900b2a0",
   "metadata": {},
   "outputs": [],
   "source": [
    "while (abs(b-a))>eps*2:\n",
    "    a,b = Dichtom(a,b,eps)"
   ]
  },
  {
   "cell_type": "code",
   "execution_count": 6,
   "id": "b62e0816-df3c-402d-a6cd-11f41ff240d1",
   "metadata": {},
   "outputs": [
    {
     "data": {
      "text/plain": [
       "3.7286726083079955e-43"
      ]
     },
     "execution_count": 6,
     "metadata": {},
     "output_type": "execute_result"
    }
   ],
   "source": [
    "func_1((a+b)/2)"
   ]
  },
  {
   "cell_type": "markdown",
   "id": "9697bf08-f917-4770-969b-f9744acecd64",
   "metadata": {},
   "source": [
    "## Метод Фиббоначи"
   ]
  },
  {
   "cell_type": "code",
   "execution_count": 7,
   "id": "b8829a2c-f093-4839-8404-1b36b13c5ea2",
   "metadata": {},
   "outputs": [],
   "source": [
    "F = [1,1,2,3,5,8,13,21,34,55]\n",
    "n = len(F) - 1\n",
    "a = -6\n",
    "b = 2\n",
    "eps = 0.1"
   ]
  },
  {
   "cell_type": "code",
   "execution_count": 8,
   "id": "0d817d5e-8e65-4eba-82da-646696aa1d06",
   "metadata": {},
   "outputs": [],
   "source": [
    "def Fibbonachi(F,n,a,b):\n",
    "    x1 = a + (F[n-1]/F[n])*(abs(b-a))\n",
    "    x2 = b - (F[n-1]/F[n])*(abs(b-a))\n",
    "    f1 = func_1(x1)\n",
    "    f2 = func_1(x2)\n",
    "    if (f1>f2):\n",
    "        b = x1\n",
    "        f1 = f2\n",
    "        x1 = x2\n",
    "        L = b-a\n",
    "        x2 = a + (b-x1)\n",
    "        f2 = func_1(x2)\n",
    "    else:\n",
    "        a = x2\n",
    "        f2 = f1\n",
    "        x2 = x1\n",
    "        L = b-a\n",
    "        x1 = b - (x2-a)\n",
    "        f1 = func_1(x1)\n",
    "    n = n-1\n",
    "    return n,f1,f2,a,b\n",
    "    "
   ]
  },
  {
   "cell_type": "code",
   "execution_count": 9,
   "id": "72032677-20e7-46c1-a0e3-b63cf26625dc",
   "metadata": {},
   "outputs": [
    {
     "name": "stdout",
     "output_type": "stream",
     "text": [
      "1.0928215285839811e-07\n"
     ]
    }
   ],
   "source": [
    "while n > 2:\n",
    "    n,f1,f2,a,b = Fibbonachi(F,n,a,b)\n",
    "print(min(f1,f2))"
   ]
  },
  {
   "cell_type": "markdown",
   "id": "01ae2955-5ded-4ef1-8537-5b1beb7a8c7b",
   "metadata": {},
   "source": [
    "## Метод Золотого сечения "
   ]
  },
  {
   "cell_type": "code",
   "execution_count": 10,
   "id": "f629d1df-ea41-4726-8944-5bdd67dff971",
   "metadata": {},
   "outputs": [],
   "source": [
    "a = -6\n",
    "b = 2\n",
    "eps = 0.0000001\n",
    "L = abs(b - a)\n",
    "t = 0.618"
   ]
  },
  {
   "cell_type": "code",
   "execution_count": 11,
   "id": "b69e8a67-bea1-456f-bacc-1f4dad548887",
   "metadata": {},
   "outputs": [],
   "source": [
    "def Gold_cut(a,b,L,t):\n",
    "    x1 = a+L*t\n",
    "    x2 = b - L*t\n",
    "    f1 = func_1(x1)\n",
    "    f2 = func_1(x2)\n",
    "    if (f1>f2):\n",
    "        b=x1\n",
    "        f1=f2\n",
    "        x1=x2\n",
    "        L = b-a\n",
    "        x2 = a + (b-x1)\n",
    "        f2 = func_1(x2)\n",
    "    else:\n",
    "        a=x2\n",
    "        f2=f1\n",
    "        x2=x1\n",
    "        L=b-a\n",
    "        x1 = b-(x2-a)\n",
    "        f1 - func_1(x1)\n",
    "    return a,b,L,f1,f2\n",
    "        "
   ]
  },
  {
   "cell_type": "code",
   "execution_count": 12,
   "id": "afcbd832-b8b1-43ac-95b8-531f1c35a5f3",
   "metadata": {},
   "outputs": [
    {
     "name": "stdout",
     "output_type": "stream",
     "text": [
      "8.808948089574372e-33\n"
     ]
    }
   ],
   "source": [
    "while L>eps:\n",
    "    a,b,L,f1,f2 = Gold_cut(a,b,L,t)\n",
    "print(min(f1,f2))"
   ]
  },
  {
   "cell_type": "markdown",
   "id": "03411b4d-f6d1-458a-b68b-0276e8e4b654",
   "metadata": {},
   "source": [
    "## Метод половинного деления"
   ]
  },
  {
   "cell_type": "code",
   "execution_count": 13,
   "id": "0d57c905-ceac-4285-80d9-3fb50614bd55",
   "metadata": {},
   "outputs": [],
   "source": [
    "def func(x):\n",
    "    return x**2 + 2*x"
   ]
  },
  {
   "cell_type": "code",
   "execution_count": 14,
   "id": "895ecaa2-32cb-4ca4-8e3f-03d41aa67b3e",
   "metadata": {},
   "outputs": [
    {
     "name": "stdout",
     "output_type": "stream",
     "text": [
      "-3  :  8.0 0.022222222222222223\n",
      "-2  :  4.0 0.022222222222222223\n",
      "-1  :  2.0 0.022222222222222223\n",
      "0  :  1.0 0.022222222222222223\n",
      "1  :  0.5 0.022222222222222223\n",
      "2  :  0.25 0.022222222222222223\n",
      "3  :  0.125 0.022222222222222223\n",
      "4  :  0.0625 0.022222222222222223\n",
      "5  :  0.03125 0.022222222222222223\n",
      "6  :  0.015625 0.022222222222222223\n"
     ]
    },
    {
     "data": {
      "text/plain": [
       "6"
      ]
     },
     "execution_count": 14,
     "metadata": {},
     "output_type": "execute_result"
    }
   ],
   "source": [
    "a = -3\n",
    "b = 6\n",
    "eps = 0.1\n",
    "l = eps * 2\n",
    "n = []\n",
    "k = 0\n",
    "for i in range(a,b+1):\n",
    "    print(i,' : ',(0.5)**i, l/(b-a))\n",
    "    if (0.5)**i <= l/(b-a): \n",
    "        n.append(i)\n",
    "n = min(n)\n",
    "n\n"
   ]
  },
  {
   "cell_type": "code",
   "execution_count": 15,
   "id": "d4e96bde-b64f-4535-8c12-dbf7f3498099",
   "metadata": {},
   "outputs": [],
   "source": [
    "def Half_division(a,b,k,func):\n",
    "    x = 0.5 * (a+b)\n",
    "    diff = sc.misc.derivative(func,x,dx = 1,n=1,args=(),order = 3)\n",
    "    print(diff)\n",
    "    if (diff > 0):\n",
    "        a = a\n",
    "        b = x\n",
    "        return a,b,k\n",
    "    elif (diff < 0):\n",
    "        a = x\n",
    "        b = b\n",
    "        return a,b,k\n",
    "    else:\n",
    "        k = n\n",
    "        return x,x,k"
   ]
  },
  {
   "cell_type": "code",
   "execution_count": 16,
   "id": "38ca3771-6614-4c1e-a135-257597ca80f3",
   "metadata": {},
   "outputs": [
    {
     "name": "stdout",
     "output_type": "stream",
     "text": [
      "5.0\n",
      "-3 1.5\n",
      "0.5\n",
      "-3 -0.75\n",
      "-1.75\n",
      "-1.875 -0.75\n",
      "-0.625\n",
      "-1.3125 -0.75\n",
      "-0.0625\n",
      "-1.03125 -0.75\n",
      "-1.03125 -0.75\n"
     ]
    },
    {
     "name": "stderr",
     "output_type": "stream",
     "text": [
      "C:\\Users\\sivit\\AppData\\Local\\Temp\\ipykernel_17044\\3863947866.py:3: DeprecationWarning: scipy.misc.derivative is deprecated in SciPy v1.10.0; and will be completely removed in SciPy v1.12.0. You may consider using findiff: https://github.com/maroba/findiff or numdifftools: https://github.com/pbrod/numdifftools\n",
      "  diff = sc.misc.derivative(func,x,dx = 1,n=1,args=(),order = 3)\n"
     ]
    }
   ],
   "source": [
    "while (k!=n-1):\n",
    "    a,b,k = Half_division(a,b,k,func)\n",
    "    k+=1\n",
    "    print(a,b)\n",
    "print(a,b)"
   ]
  },
  {
   "cell_type": "markdown",
   "id": "6816b756-515a-4f54-8c3d-0affd0cd6174",
   "metadata": {},
   "source": [
    "# LAB 2"
   ]
  },
  {
   "cell_type": "code",
   "execution_count": 17,
   "id": "1124e69e-1d94-4711-bfc3-73796a9e654d",
   "metadata": {},
   "outputs": [],
   "source": [
    "def func_2(A,x,y,a,b):\n",
    "    return A - (x - a) * exp(-(x-a)) - (y - b) * exp(-(x-b))"
   ]
  },
  {
   "cell_type": "markdown",
   "id": "5ca5d3af-7060-4046-9e77-6b0305a71197",
   "metadata": {},
   "source": [
    "## Метод Гаусса-Зейделя"
   ]
  },
  {
   "cell_type": "code",
   "execution_count": 18,
   "id": "f79bc876-37e6-4ab0-9f4f-bd307b281c07",
   "metadata": {},
   "outputs": [],
   "source": [
    "eps = 0.000000000001\n",
    "A = 30\n",
    "a = 2 \n",
    "b = 1\n"
   ]
  },
  {
   "cell_type": "code",
   "execution_count": null,
   "id": "bfd291f5-65c1-4615-acde-81f95d5b4282",
   "metadata": {},
   "outputs": [],
   "source": []
  }
 ],
 "metadata": {
  "kernelspec": {
   "display_name": "Python 3 (ipykernel)",
   "language": "python",
   "name": "python3"
  },
  "language_info": {
   "codemirror_mode": {
    "name": "ipython",
    "version": 3
   },
   "file_extension": ".py",
   "mimetype": "text/x-python",
   "name": "python",
   "nbconvert_exporter": "python",
   "pygments_lexer": "ipython3",
   "version": "3.10.4"
  }
 },
 "nbformat": 4,
 "nbformat_minor": 5
}

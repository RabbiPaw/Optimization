{
 "cells": [
  {
   "cell_type": "code",
   "execution_count": 127,
   "id": "e7c05875-9412-4d87-a757-06042692ec66",
   "metadata": {
    "ExecuteTime": {
     "end_time": "2024-04-19T12:42:40.795469Z",
     "start_time": "2024-04-19T12:42:40.786640Z"
    }
   },
   "outputs": [],
   "source": [
    "import scipy as sc\n",
    "import numpy as np\n",
    "import warnings\n",
    "\n",
    "#suppress warnings\n",
    "warnings. filterwarnings('ignore')"
   ]
  },
  {
   "cell_type": "markdown",
   "id": "1178e037-99b5-4ce0-8688-66c56c360f37",
   "metadata": {},
   "source": [
    "# LAB 1"
   ]
  },
  {
   "cell_type": "code",
   "execution_count": 128,
   "id": "88510cf8-f588-425c-a1ae-481406e76205",
   "metadata": {
    "ExecuteTime": {
     "end_time": "2024-04-19T12:42:41.589965Z",
     "start_time": "2024-04-19T12:42:41.580923Z"
    }
   },
   "outputs": [],
   "source": [
    "def func_1(x):\n",
    "    return (x+5)**4"
   ]
  },
  {
   "cell_type": "markdown",
   "id": "c761e921-ec7b-47c8-a050-5f87912b2a10",
   "metadata": {},
   "source": [
    "## Метод Дихотомии"
   ]
  },
  {
   "cell_type": "code",
   "execution_count": 129,
   "id": "40425637-c378-458c-b605-7d321b187480",
   "metadata": {
    "ExecuteTime": {
     "end_time": "2024-04-19T12:42:41.682276Z",
     "start_time": "2024-04-19T12:42:41.671960Z"
    }
   },
   "outputs": [],
   "source": [
    "a = -6\n",
    "b = 2\n",
    "eps = 0.00000001"
   ]
  },
  {
   "cell_type": "code",
   "execution_count": 130,
   "id": "2217dc6d-2e0f-47a2-ab05-ffaf293d0efc",
   "metadata": {
    "ExecuteTime": {
     "end_time": "2024-04-19T12:42:41.841459Z",
     "start_time": "2024-04-19T12:42:41.831273Z"
    }
   },
   "outputs": [],
   "source": [
    "def Dichtom(a,b,eps):\n",
    "    x = (a+b)/2\n",
    "    x1 = x - eps/2\n",
    "    x2 = x + eps/2\n",
    "    f1 = func_1(x1)\n",
    "    f2 = func_1(x2)\n",
    "    if f1>f2:\n",
    "        a = x1\n",
    "    else:\n",
    "        b = x2\n",
    "    return a,b"
   ]
  },
  {
   "cell_type": "code",
   "execution_count": 131,
   "id": "2ae18e62-85fc-47e2-8879-b6f2b900b2a0",
   "metadata": {
    "ExecuteTime": {
     "end_time": "2024-04-19T12:42:41.923452Z",
     "start_time": "2024-04-19T12:42:41.907449Z"
    }
   },
   "outputs": [],
   "source": [
    "while (abs(b-a))>eps*2:\n",
    "    a,b = Dichtom(a,b,eps)"
   ]
  },
  {
   "cell_type": "code",
   "execution_count": 132,
   "id": "b62e0816-df3c-402d-a6cd-11f41ff240d1",
   "metadata": {
    "ExecuteTime": {
     "end_time": "2024-04-19T12:42:42.079612Z",
     "start_time": "2024-04-19T12:42:42.065462Z"
    }
   },
   "outputs": [
    {
     "data": {
      "text/plain": "3.7286726083079955e-43"
     },
     "execution_count": 132,
     "metadata": {},
     "output_type": "execute_result"
    }
   ],
   "source": [
    "func_1((a+b)/2)"
   ]
  },
  {
   "cell_type": "markdown",
   "id": "9697bf08-f917-4770-969b-f9744acecd64",
   "metadata": {},
   "source": [
    "## Метод Фиббоначи"
   ]
  },
  {
   "cell_type": "code",
   "execution_count": 133,
   "id": "b8829a2c-f093-4839-8404-1b36b13c5ea2",
   "metadata": {
    "ExecuteTime": {
     "end_time": "2024-04-19T12:42:42.267611Z",
     "start_time": "2024-04-19T12:42:42.256603Z"
    }
   },
   "outputs": [],
   "source": [
    "F = [1,1,2,3,5,8,13,21,34,55]\n",
    "n = len(F) - 1\n",
    "a = -6\n",
    "b = 2\n",
    "eps = 0.1"
   ]
  },
  {
   "cell_type": "code",
   "execution_count": 134,
   "id": "0d817d5e-8e65-4eba-82da-646696aa1d06",
   "metadata": {
    "ExecuteTime": {
     "end_time": "2024-04-19T12:42:42.358816Z",
     "start_time": "2024-04-19T12:42:42.347614Z"
    }
   },
   "outputs": [],
   "source": [
    "def Fibbonachi(F,n,a,b):\n",
    "    x1 = a + (F[n-1]/F[n])*(abs(b-a))\n",
    "    x2 = b - (F[n-1]/F[n])*(abs(b-a))\n",
    "    f1 = func_1(x1)\n",
    "    f2 = func_1(x2)\n",
    "    if (f1>f2):\n",
    "        b = x1\n",
    "        f1 = f2\n",
    "        x1 = x2\n",
    "        L = b-a\n",
    "        x2 = a + (b-x1)\n",
    "        f2 = func_1(x2)\n",
    "    else:\n",
    "        a = x2\n",
    "        f2 = f1\n",
    "        x2 = x1\n",
    "        L = b-a\n",
    "        x1 = b - (x2-a)\n",
    "        f1 = func_1(x1)\n",
    "    n = n-1\n",
    "    return n,f1,f2,a,b\n",
    "    "
   ]
  },
  {
   "cell_type": "code",
   "execution_count": 135,
   "id": "72032677-20e7-46c1-a0e3-b63cf26625dc",
   "metadata": {
    "ExecuteTime": {
     "end_time": "2024-04-19T12:42:42.660958Z",
     "start_time": "2024-04-19T12:42:42.650802Z"
    }
   },
   "outputs": [
    {
     "name": "stdout",
     "output_type": "stream",
     "text": [
      "1.0928215285839811e-07\n"
     ]
    }
   ],
   "source": [
    "while n > 2:\n",
    "    n,f1,f2,a,b = Fibbonachi(F,n,a,b)\n",
    "print(min(f1,f2))"
   ]
  },
  {
   "cell_type": "markdown",
   "id": "01ae2955-5ded-4ef1-8537-5b1beb7a8c7b",
   "metadata": {},
   "source": [
    "## Метод Золотого сечения "
   ]
  },
  {
   "cell_type": "code",
   "execution_count": 136,
   "id": "f629d1df-ea41-4726-8944-5bdd67dff971",
   "metadata": {
    "ExecuteTime": {
     "end_time": "2024-04-19T12:42:42.756953Z",
     "start_time": "2024-04-19T12:42:42.747955Z"
    }
   },
   "outputs": [],
   "source": [
    "a = -6\n",
    "b = 2\n",
    "eps = 0.0000001\n",
    "L = abs(b - a)\n",
    "t = 0.618"
   ]
  },
  {
   "cell_type": "code",
   "execution_count": 137,
   "id": "b69e8a67-bea1-456f-bacc-1f4dad548887",
   "metadata": {
    "ExecuteTime": {
     "end_time": "2024-04-19T12:42:43.039528Z",
     "start_time": "2024-04-19T12:42:43.020977Z"
    }
   },
   "outputs": [],
   "source": [
    "def Gold_cut(a,b,L,t):\n",
    "    x1 = a+L*t\n",
    "    x2 = b - L*t\n",
    "    f1 = func_1(x1)\n",
    "    f2 = func_1(x2)\n",
    "    if (f1>f2):\n",
    "        b=x1\n",
    "        f1=f2\n",
    "        x1=x2\n",
    "        L = b-a\n",
    "        x2 = a + (b-x1)\n",
    "        f2 = func_1(x2)\n",
    "    else:\n",
    "        a=x2\n",
    "        f2=f1\n",
    "        x2=x1\n",
    "        L=b-a\n",
    "        x1 = b-(x2-a)\n",
    "        f1 - func_1(x1)\n",
    "    return a,b,L,f1,f2\n",
    "        "
   ]
  },
  {
   "cell_type": "code",
   "execution_count": 138,
   "id": "afcbd832-b8b1-43ac-95b8-531f1c35a5f3",
   "metadata": {
    "ExecuteTime": {
     "end_time": "2024-04-19T12:42:43.111207Z",
     "start_time": "2024-04-19T12:42:43.098060Z"
    }
   },
   "outputs": [
    {
     "name": "stdout",
     "output_type": "stream",
     "text": [
      "8.808948089574372e-33\n"
     ]
    }
   ],
   "source": [
    "while L>eps:\n",
    "    a,b,L,f1,f2 = Gold_cut(a,b,L,t)\n",
    "print(min(f1,f2))"
   ]
  },
  {
   "cell_type": "markdown",
   "id": "03411b4d-f6d1-458a-b68b-0276e8e4b654",
   "metadata": {},
   "source": [
    "## Метод половинного деления"
   ]
  },
  {
   "cell_type": "code",
   "execution_count": 139,
   "id": "0d57c905-ceac-4285-80d9-3fb50614bd55",
   "metadata": {
    "ExecuteTime": {
     "end_time": "2024-04-19T12:42:43.212366Z",
     "start_time": "2024-04-19T12:42:43.203188Z"
    }
   },
   "outputs": [],
   "source": [
    "def func(x):\n",
    "    return x**2 + 2*x"
   ]
  },
  {
   "cell_type": "code",
   "execution_count": 140,
   "id": "895ecaa2-32cb-4ca4-8e3f-03d41aa67b3e",
   "metadata": {
    "ExecuteTime": {
     "end_time": "2024-04-19T12:42:43.399218Z",
     "start_time": "2024-04-19T12:42:43.376364Z"
    }
   },
   "outputs": [
    {
     "name": "stdout",
     "output_type": "stream",
     "text": [
      "-3  :  8.0 0.022222222222222223\n",
      "-2  :  4.0 0.022222222222222223\n",
      "-1  :  2.0 0.022222222222222223\n",
      "0  :  1.0 0.022222222222222223\n",
      "1  :  0.5 0.022222222222222223\n",
      "2  :  0.25 0.022222222222222223\n",
      "3  :  0.125 0.022222222222222223\n",
      "4  :  0.0625 0.022222222222222223\n",
      "5  :  0.03125 0.022222222222222223\n",
      "6  :  0.015625 0.022222222222222223\n"
     ]
    },
    {
     "data": {
      "text/plain": "6"
     },
     "execution_count": 140,
     "metadata": {},
     "output_type": "execute_result"
    }
   ],
   "source": [
    "a = -3\n",
    "b = 6\n",
    "eps = 0.1\n",
    "l = eps * 2\n",
    "n = []\n",
    "k = 0\n",
    "for i in range(a,b+1):\n",
    "    print(i,' : ',(0.5)**i, l/(b-a))\n",
    "    if (0.5)**i <= l/(b-a): \n",
    "        n.append(i)\n",
    "n = min(n)\n",
    "n\n"
   ]
  },
  {
   "cell_type": "code",
   "execution_count": 141,
   "id": "d4e96bde-b64f-4535-8c12-dbf7f3498099",
   "metadata": {
    "ExecuteTime": {
     "end_time": "2024-04-19T12:42:43.487283Z",
     "start_time": "2024-04-19T12:42:43.473216Z"
    }
   },
   "outputs": [],
   "source": [
    "def Half_division(a,b,k,func):\n",
    "    x = 0.5 * (a+b)\n",
    "    diff = sc.misc.derivative(func,x,dx = 1,n=1,args=(),order = 3)\n",
    "    if (diff > 0):\n",
    "        a = a\n",
    "        b = x\n",
    "        return a,b,k\n",
    "    elif (diff < 0):\n",
    "        a = x\n",
    "        b = b\n",
    "        return a,b,k\n",
    "    else:\n",
    "        k = n - 2\n",
    "        return x,x,k"
   ]
  },
  {
   "cell_type": "code",
   "execution_count": 142,
   "id": "38ca3771-6614-4c1e-a135-257597ca80f3",
   "metadata": {
    "ExecuteTime": {
     "end_time": "2024-04-19T12:42:43.613680Z",
     "start_time": "2024-04-19T12:42:43.600262Z"
    }
   },
   "outputs": [
    {
     "name": "stdout",
     "output_type": "stream",
     "text": [
      "-0.9609375\n"
     ]
    }
   ],
   "source": [
    "while (k!=n):\n",
    "    a,b,k = Half_division(a,b,k,func)\n",
    "    k+=1\n",
    "print(0.5 * (a+b))"
   ]
  },
  {
   "cell_type": "markdown",
   "id": "6816b756-515a-4f54-8c3d-0affd0cd6174",
   "metadata": {},
   "source": [
    "# LAB 2"
   ]
  },
  {
   "cell_type": "code",
   "execution_count": 143,
   "id": "1124e69e-1d94-4711-bfc3-73796a9e654d",
   "metadata": {
    "ExecuteTime": {
     "end_time": "2024-04-19T12:42:43.681464Z",
     "start_time": "2024-04-19T12:42:43.670671Z"
    }
   },
   "outputs": [],
   "source": [
    "def func_2(x):\n",
    "    return A - (x[0]-a)*np.exp(-(x[0]-a)) - (x[1]-b)*np.exp(-(x[1]-b))"
   ]
  },
  {
   "cell_type": "markdown",
   "id": "5ca5d3af-7060-4046-9e77-6b0305a71197",
   "metadata": {},
   "source": [
    "## Метод Гаусса-Зейделя"
   ]
  },
  {
   "cell_type": "code",
   "execution_count": 144,
   "id": "f79bc876-37e6-4ab0-9f4f-bd307b281c07",
   "metadata": {
    "ExecuteTime": {
     "end_time": "2024-04-19T12:42:43.849019Z",
     "start_time": "2024-04-19T12:42:43.837463Z"
    }
   },
   "outputs": [],
   "source": [
    "eps = 0.000001\n",
    "A = 30\n",
    "a = 2 \n",
    "b = 1\n",
    "x0 = np.array([0,0])\n",
    "n = 2"
   ]
  },
  {
   "cell_type": "code",
   "execution_count": 145,
   "id": "bfd291f5-65c1-4615-acde-81f95d5b4282",
   "metadata": {
    "ExecuteTime": {
     "end_time": "2024-04-19T12:42:44.063598Z",
     "start_time": "2024-04-19T12:42:44.049948Z"
    }
   },
   "outputs": [],
   "source": [
    "y = np.copy(x0)\n",
    "k=1\n",
    "j=1"
   ]
  },
  {
   "cell_type": "code",
   "outputs": [
    {
     "name": "stdout",
     "output_type": "stream",
     "text": [
      "[2.99999999 1.99999995]\n"
     ]
    }
   ],
   "source": [
    "while True:\n",
    "    res = sc.optimize.minimize_scalar(lambda lmbd: func_2(y + lmbd * np.eye(n)[j-1]))\n",
    "    lmbd = res.x\n",
    "    \n",
    "    y = y + lmbd * np.eye(n)[j-1]\n",
    "    \n",
    "    if j < n:\n",
    "        j+=1\n",
    "    else:\n",
    "        if np.linalg.norm(y - x0) < eps:\n",
    "            break\n",
    "        else:\n",
    "            x0 = y\n",
    "            j = 1\n",
    "            k += 1\n",
    "print(y)"
   ],
   "metadata": {
    "collapsed": false,
    "ExecuteTime": {
     "end_time": "2024-04-19T12:42:44.164604Z",
     "start_time": "2024-04-19T12:42:44.139587Z"
    }
   },
   "id": "f6dd0ef7aa763f97",
   "execution_count": 146
  },
  {
   "cell_type": "markdown",
   "source": [
    "## Метод Пауэлла"
   ],
   "metadata": {
    "collapsed": false
   },
   "id": "721d2b1353df58fc"
  },
  {
   "cell_type": "code",
   "outputs": [],
   "source": [
    "eps = 0.000001\n",
    "A = 30\n",
    "a = 2 \n",
    "b = 1\n",
    "x0 = np.array([0,0])"
   ],
   "metadata": {
    "collapsed": false,
    "ExecuteTime": {
     "end_time": "2024-04-19T12:42:44.308981Z",
     "start_time": "2024-04-19T12:42:44.297603Z"
    }
   },
   "id": "88c8ab0a79425f6d",
   "execution_count": 147
  },
  {
   "cell_type": "code",
   "outputs": [],
   "source": [
    "S = np.eye(2)\n",
    "x = np.array([0.0, 0.0])"
   ],
   "metadata": {
    "collapsed": false,
    "ExecuteTime": {
     "end_time": "2024-04-19T12:42:44.524359Z",
     "start_time": "2024-04-19T12:42:44.514987Z"
    }
   },
   "id": "559779367541d8b8",
   "execution_count": 148
  },
  {
   "cell_type": "code",
   "outputs": [
    {
     "name": "stdout",
     "output_type": "stream",
     "text": [
      "[2.99998147 1.99999414]\n"
     ]
    }
   ],
   "source": [
    "while True:\n",
    "    x_old = x.copy()\n",
    "    for i in range(2):\n",
    "        result = sc.optimize.minimize(lambda lam: func_2(x + lam * S[:, i]), 0)\n",
    "        x = x + result.x * S[:, i]\n",
    "\n",
    "    y = x - x_old\n",
    "    if np.linalg.norm(y) < eps:\n",
    "        break\n",
    "    \n",
    "    # Обновление сопряженных направлений\n",
    "    S = np.roll(S, -1, axis=1)\n",
    "    S[:, -1] = y / np.linalg.norm(y)\n",
    "\n",
    "print(x)"
   ],
   "metadata": {
    "collapsed": false,
    "ExecuteTime": {
     "end_time": "2024-04-19T12:42:44.634510Z",
     "start_time": "2024-04-19T12:42:44.598363Z"
    }
   },
   "id": "5e6070e9e99eeebe",
   "execution_count": 149
  },
  {
   "cell_type": "markdown",
   "source": [
    "## Метод Коши (Наискорейшего спуска)"
   ],
   "metadata": {
    "collapsed": false
   },
   "id": "bafb38127f30545a"
  },
  {
   "cell_type": "code",
   "outputs": [],
   "source": [
    "eps = 0.000000001\n",
    "A = 30\n",
    "a = 2 \n",
    "b = 1\n"
   ],
   "metadata": {
    "collapsed": false,
    "ExecuteTime": {
     "end_time": "2024-04-19T12:42:44.758630Z",
     "start_time": "2024-04-19T12:42:44.751526Z"
    }
   },
   "id": "a8be7fd01a69464",
   "execution_count": 150
  },
  {
   "cell_type": "code",
   "outputs": [],
   "source": [
    "def grad(x):\n",
    "    dfdx = (x[0]-a)*np.exp(-(x[0]-a)) - np.exp(-(x[0]-a))\n",
    "    dfdy = (x[1]-b)*np.exp(-(x[1]-b)) - np.exp(-(x[1]-b))\n",
    "    return np.array([dfdx,dfdy])\n",
    "\n",
    "x = np.array([0.0,0.0])"
   ],
   "metadata": {
    "collapsed": false,
    "ExecuteTime": {
     "end_time": "2024-04-19T12:42:44.826618Z",
     "start_time": "2024-04-19T12:42:44.816637Z"
    }
   },
   "id": "b1381db49ad5879b",
   "execution_count": 151
  },
  {
   "cell_type": "code",
   "outputs": [
    {
     "name": "stdout",
     "output_type": "stream",
     "text": [
      "[3. 2.]\n"
     ]
    }
   ],
   "source": [
    "while True:\n",
    "    g = grad(x)\n",
    "    \n",
    "    if np.linalg.norm(g)<eps:\n",
    "        break\n",
    "        \n",
    "    S = -g / np.linalg.norm(g)\n",
    "    \n",
    "    res = sc.optimize.minimize_scalar(lambda lam: func_2(x + lam * S))\n",
    "    lam_optimal = res.x\n",
    "    \n",
    "    x = x + lam_optimal * S\n",
    "\n",
    "print(x)\n"
   ],
   "metadata": {
    "collapsed": false,
    "ExecuteTime": {
     "end_time": "2024-04-19T12:42:44.999858Z",
     "start_time": "2024-04-19T12:42:44.974146Z"
    }
   },
   "id": "d682394617830ef8",
   "execution_count": 152
  },
  {
   "cell_type": "markdown",
   "source": [
    "## Метод Розенброка"
   ],
   "metadata": {
    "collapsed": false
   },
   "id": "9fe0243c1c518969"
  },
  {
   "cell_type": "code",
   "outputs": [],
   "source": [
    "eps = 0.00001\n",
    "A = 30\n",
    "a = 2\n",
    "b = 1\n",
    "alpha = 0.0000000001"
   ],
   "metadata": {
    "collapsed": false,
    "ExecuteTime": {
     "end_time": "2024-04-19T12:42:45.116623Z",
     "start_time": "2024-04-19T12:42:45.104855Z"
    }
   },
   "id": "e1d7895c576942b1",
   "execution_count": 153
  },
  {
   "cell_type": "code",
   "outputs": [],
   "source": [
    "x = np.array([0.0,0.0])"
   ],
   "metadata": {
    "collapsed": false,
    "ExecuteTime": {
     "end_time": "2024-04-19T12:42:45.249610Z",
     "start_time": "2024-04-19T12:42:45.241642Z"
    }
   },
   "id": "ef1cde4da425d7c7",
   "execution_count": 154
  },
  {
   "cell_type": "code",
   "outputs": [
    {
     "name": "stdout",
     "output_type": "stream",
     "text": [
      "Optimal x: -2.6837942567263556e-09\n",
      "Optimal y: 2.7182818357543545e-10\n"
     ]
    }
   ],
   "source": [
    "while True:\n",
    "    x_prev = x.copy()\n",
    "    \n",
    "    while True:\n",
    "        f_prev = func_2(x)\n",
    "        x[0] -= alpha * ((2 * (x[0] - a) * np.exp(-(x[0] - a)) * (1 + (x[1] - a))) + ((x[1] - b) * np.exp(-(x[0] - b))))\n",
    "        if abs(func_2(x) - f_prev) < eps:\n",
    "            break\n",
    "        print(abs(func_2(x) - f_prev))\n",
    "\n",
    "    # Поиск вдоль оси y\n",
    "    while True:\n",
    "        f_prev = func_2(x)\n",
    "        x[1] -= alpha * (x[1] - b) * np.exp(-(x[0] - b))\n",
    "        if abs(func_2(x) - f_prev) < eps:\n",
    "            break\n",
    "\n",
    "    # Проверка критерия остановки\n",
    "    if np.linalg.norm(x - x_prev) < eps:\n",
    "        break\n",
    "    print(np.linalg.norm(x - x_prev))\n",
    "\n",
    "print(\"Optimal x:\", x[0])\n",
    "print(\"Optimal y:\", x[1])"
   ],
   "metadata": {
    "collapsed": false,
    "ExecuteTime": {
     "end_time": "2024-04-19T12:42:45.358685Z",
     "start_time": "2024-04-19T12:42:45.342620Z"
    }
   },
   "id": "97c9cd1acfc7b4af",
   "execution_count": 155
  },
  {
   "cell_type": "markdown",
   "source": [
    "## Метод Хука и Дживса"
   ],
   "metadata": {
    "collapsed": false
   },
   "id": "b2a761a5159deff8"
  },
  {
   "cell_type": "code",
   "outputs": [],
   "source": [
    "A = 30\n",
    "a = 2\n",
    "b = 1"
   ],
   "metadata": {
    "collapsed": false,
    "ExecuteTime": {
     "end_time": "2024-04-19T12:42:45.438540Z",
     "start_time": "2024-04-19T12:42:45.431715Z"
    }
   },
   "id": "ffe32799de7470b7",
   "execution_count": 156
  },
  {
   "cell_type": "code",
   "outputs": [],
   "source": [
    "x_start = np.array([0.0,0.0])\n",
    "delta = 0.01\n",
    "eps = 0.0000001"
   ],
   "metadata": {
    "collapsed": false,
    "ExecuteTime": {
     "end_time": "2024-04-19T12:42:45.570722Z",
     "start_time": "2024-04-19T12:42:45.560533Z"
    }
   },
   "id": "3d1cdc986e97baad",
   "execution_count": 157
  },
  {
   "cell_type": "code",
   "outputs": [
    {
     "name": "stdout",
     "output_type": "stream",
     "text": [
      "[3. 2.]\n"
     ]
    }
   ],
   "source": [
    "x = x_start.copy()\n",
    "x_new = x_start.copy()\n",
    "while True:\n",
    "    for i in range(len(x)):\n",
    "        x_plus = x.copy()\n",
    "        x_plus[i] += delta\n",
    "        x_minus = x.copy()\n",
    "        x_minus[i] -= delta\n",
    "        if func_2(x_plus) < func_2(x):\n",
    "            x_new[i] = x_plus[i]\n",
    "        elif func_2(x_minus) < func_2(x):\n",
    "            x_new[i] = x_minus[i]\n",
    "    \n",
    "    x_pattern = 2*x_new - x\n",
    "    if func_2(x_pattern) < func_2(x):\n",
    "        x = x_pattern.copy()\n",
    "    else:\n",
    "        if np.linalg.norm(delta) < eps:\n",
    "            break\n",
    "        delta /= 2\n",
    "        x_new = x.copy()\n",
    "\n",
    "print(x)"
   ],
   "metadata": {
    "collapsed": false,
    "ExecuteTime": {
     "end_time": "2024-04-19T12:42:45.754555Z",
     "start_time": "2024-04-19T12:42:45.717742Z"
    }
   },
   "id": "983f80a49c4a1100",
   "execution_count": 158
  },
  {
   "cell_type": "code",
   "outputs": [],
   "source": [],
   "metadata": {
    "collapsed": false,
    "ExecuteTime": {
     "end_time": "2024-04-19T12:42:45.820059Z",
     "start_time": "2024-04-19T12:42:45.815562Z"
    }
   },
   "id": "22acb522ed5062f3",
   "execution_count": 158
  },
  {
   "cell_type": "markdown",
   "source": [
    "# LR_3"
   ],
   "metadata": {
    "collapsed": false
   },
   "id": "4128434acc3b0717"
  },
  {
   "cell_type": "code",
   "outputs": [],
   "source": [],
   "metadata": {
    "collapsed": false,
    "ExecuteTime": {
     "end_time": "2024-04-19T12:42:45.960884Z",
     "start_time": "2024-04-19T12:42:45.956072Z"
    }
   },
   "id": "863b514e3b785916",
   "execution_count": 158
  },
  {
   "cell_type": "markdown",
   "source": [
    "#"
   ],
   "metadata": {
    "collapsed": false
   },
   "id": "2d0ff7f6c0897509"
  }
 ],
 "metadata": {
  "kernelspec": {
   "display_name": "Python 3 (ipykernel)",
   "language": "python",
   "name": "python3"
  },
  "language_info": {
   "codemirror_mode": {
    "name": "ipython",
    "version": 3
   },
   "file_extension": ".py",
   "mimetype": "text/x-python",
   "name": "python",
   "nbconvert_exporter": "python",
   "pygments_lexer": "ipython3",
   "version": "3.10.4"
  }
 },
 "nbformat": 4,
 "nbformat_minor": 5
}
